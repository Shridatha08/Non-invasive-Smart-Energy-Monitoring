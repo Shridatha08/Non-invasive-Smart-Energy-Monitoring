{
 "cells": [
  {
   "cell_type": "code",
   "execution_count": 16,
   "metadata": {},
   "outputs": [],
   "source": [
    "import pandas as pd\n",
    "import matplotlib.pyplot as plt\n",
    "import seaborn as sns\n",
    "from datetime import datetime\n",
    "import matplotlib as mp\n",
    "\n",
    "mp.rcParams['figure.figsize']=(12,8)\n",
    "mp.rcParams['axes.grid']=False\n"
   ]
  },
  {
   "cell_type": "code",
   "execution_count": 17,
   "metadata": {},
   "outputs": [],
   "source": [
    "def parse(x):\n",
    "    return datetime.strptime(x,'%Y-%m-%d')"
   ]
  },
  {
   "cell_type": "code",
   "execution_count": 18,
   "metadata": {},
   "outputs": [
    {
     "data": {
      "text/html": [
       "<div>\n",
       "<style scoped>\n",
       "    .dataframe tbody tr th:only-of-type {\n",
       "        vertical-align: middle;\n",
       "    }\n",
       "\n",
       "    .dataframe tbody tr th {\n",
       "        vertical-align: top;\n",
       "    }\n",
       "\n",
       "    .dataframe thead th {\n",
       "        text-align: right;\n",
       "    }\n",
       "</style>\n",
       "<table border=\"1\" class=\"dataframe\">\n",
       "  <thead>\n",
       "    <tr style=\"text-align: right;\">\n",
       "      <th></th>\n",
       "      <th>Unnamed: 0</th>\n",
       "      <th>Unnamed: 0.1</th>\n",
       "      <th>datetime</th>\n",
       "      <th>Global_active_power</th>\n",
       "      <th>Global_reactive_power</th>\n",
       "      <th>Voltage</th>\n",
       "      <th>Global_intensity</th>\n",
       "      <th>Sub_metering_1</th>\n",
       "      <th>Sub_metering_2</th>\n",
       "      <th>Sub_metering_3</th>\n",
       "      <th>sub_metering_4</th>\n",
       "      <th>total</th>\n",
       "      <th>new</th>\n",
       "    </tr>\n",
       "  </thead>\n",
       "  <tbody>\n",
       "    <tr>\n",
       "      <th>0</th>\n",
       "      <td>16</td>\n",
       "      <td>16</td>\n",
       "      <td>2007-01-01</td>\n",
       "      <td>2749.004</td>\n",
       "      <td>148.166</td>\n",
       "      <td>345785.73</td>\n",
       "      <td>11400.4</td>\n",
       "      <td>0</td>\n",
       "      <td>352</td>\n",
       "      <td>5880</td>\n",
       "      <td>39584.733275</td>\n",
       "      <td>62.32</td>\n",
       "      <td>14.441000</td>\n",
       "    </tr>\n",
       "    <tr>\n",
       "      <th>1</th>\n",
       "      <td>17</td>\n",
       "      <td>17</td>\n",
       "      <td>2007-01-02</td>\n",
       "      <td>1269.236</td>\n",
       "      <td>190.342</td>\n",
       "      <td>348399.04</td>\n",
       "      <td>5348.2</td>\n",
       "      <td>0</td>\n",
       "      <td>348</td>\n",
       "      <td>6562</td>\n",
       "      <td>14243.933346</td>\n",
       "      <td>69.10</td>\n",
       "      <td>14.525588</td>\n",
       "    </tr>\n",
       "    <tr>\n",
       "      <th>2</th>\n",
       "      <td>18</td>\n",
       "      <td>18</td>\n",
       "      <td>2007-01-03</td>\n",
       "      <td>1014.054</td>\n",
       "      <td>196.728</td>\n",
       "      <td>350722.21</td>\n",
       "      <td>4340.2</td>\n",
       "      <td>0</td>\n",
       "      <td>344</td>\n",
       "      <td>4765</td>\n",
       "      <td>11791.900019</td>\n",
       "      <td>51.09</td>\n",
       "      <td>13.675471</td>\n",
       "    </tr>\n",
       "    <tr>\n",
       "      <th>3</th>\n",
       "      <td>19</td>\n",
       "      <td>19</td>\n",
       "      <td>2007-01-04</td>\n",
       "      <td>3259.412</td>\n",
       "      <td>202.302</td>\n",
       "      <td>345240.43</td>\n",
       "      <td>13648.6</td>\n",
       "      <td>1051</td>\n",
       "      <td>7597</td>\n",
       "      <td>10896</td>\n",
       "      <td>34779.533289</td>\n",
       "      <td>195.44</td>\n",
       "      <td>13.783824</td>\n",
       "    </tr>\n",
       "    <tr>\n",
       "      <th>4</th>\n",
       "      <td>20</td>\n",
       "      <td>20</td>\n",
       "      <td>2007-01-05</td>\n",
       "      <td>2713.364</td>\n",
       "      <td>173.154</td>\n",
       "      <td>346313.90</td>\n",
       "      <td>11354.6</td>\n",
       "      <td>1483</td>\n",
       "      <td>379</td>\n",
       "      <td>7602</td>\n",
       "      <td>35758.733384</td>\n",
       "      <td>94.64</td>\n",
       "      <td>13.479471</td>\n",
       "    </tr>\n",
       "  </tbody>\n",
       "</table>\n",
       "</div>"
      ],
      "text/plain": [
       "   Unnamed: 0  Unnamed: 0.1   datetime  Global_active_power  \\\n",
       "0          16            16 2007-01-01             2749.004   \n",
       "1          17            17 2007-01-02             1269.236   \n",
       "2          18            18 2007-01-03             1014.054   \n",
       "3          19            19 2007-01-04             3259.412   \n",
       "4          20            20 2007-01-05             2713.364   \n",
       "\n",
       "   Global_reactive_power    Voltage  Global_intensity  Sub_metering_1  \\\n",
       "0                148.166  345785.73           11400.4               0   \n",
       "1                190.342  348399.04            5348.2               0   \n",
       "2                196.728  350722.21            4340.2               0   \n",
       "3                202.302  345240.43           13648.6            1051   \n",
       "4                173.154  346313.90           11354.6            1483   \n",
       "\n",
       "   Sub_metering_2  Sub_metering_3  sub_metering_4   total        new  \n",
       "0             352            5880    39584.733275   62.32  14.441000  \n",
       "1             348            6562    14243.933346   69.10  14.525588  \n",
       "2             344            4765    11791.900019   51.09  13.675471  \n",
       "3            7597           10896    34779.533289  195.44  13.783824  \n",
       "4             379            7602    35758.733384   94.64  13.479471  "
      ]
     },
     "execution_count": 18,
     "metadata": {},
     "output_type": "execute_result"
    }
   ],
   "source": [
    "df=pd.read_csv('rolling.csv',parse_dates=['datetime'],date_parser=parse)\n",
    "df.head()"
   ]
  },
  {
   "cell_type": "code",
   "execution_count": 19,
   "metadata": {},
   "outputs": [],
   "source": [
    "\n",
    "def date_features(df, label=None):\n",
    "    df = df.copy()\n",
    "\n",
    "    df['datetime'] = df.datetime\n",
    "    df['month'] = df['datetime'].dt.strftime('%B')\n",
    "    df['year'] = df['datetime'].dt.strftime('%Y')\n",
    "    df['dayofweek'] = df['datetime'].dt.strftime('%A')\n",
    "    df['quarter'] = df['datetime'].dt.quarter\n",
    "    df['dayofyear'] = df['datetime'].dt.dayofyear\n",
    "    df['dayofmonth'] = df['datetime'].dt.day\n",
    "    df['weekofyear'] = df['datetime'].dt.week\n",
    "    \n",
    "    X = df[['dayofweek','quarter','month','year',\n",
    "           'dayofyear','dayofmonth','weekofyear']]\n",
    "    if label:\n",
    "        y = df[label]\n",
    "        return X, y\n",
    "    return X\n"
   ]
  },
  {
   "cell_type": "code",
   "execution_count": 23,
   "metadata": {},
   "outputs": [
    {
     "name": "stderr",
     "output_type": "stream",
     "text": [
      "<ipython-input-19-496019dd0300>:11: FutureWarning: Series.dt.weekofyear and Series.dt.week have been deprecated.  Please use Series.dt.isocalendar().week instead.\n",
      "  df['weekofyear'] = df['datetime'].dt.week\n"
     ]
    },
    {
     "data": {
      "text/html": [
       "<div>\n",
       "<style scoped>\n",
       "    .dataframe tbody tr th:only-of-type {\n",
       "        vertical-align: middle;\n",
       "    }\n",
       "\n",
       "    .dataframe tbody tr th {\n",
       "        vertical-align: top;\n",
       "    }\n",
       "\n",
       "    .dataframe thead th {\n",
       "        text-align: right;\n",
       "    }\n",
       "</style>\n",
       "<table border=\"1\" class=\"dataframe\">\n",
       "  <thead>\n",
       "    <tr style=\"text-align: right;\">\n",
       "      <th></th>\n",
       "      <th>dayofweek</th>\n",
       "      <th>quarter</th>\n",
       "      <th>month</th>\n",
       "      <th>year</th>\n",
       "      <th>dayofyear</th>\n",
       "      <th>dayofmonth</th>\n",
       "      <th>weekofyear</th>\n",
       "      <th>new</th>\n",
       "    </tr>\n",
       "  </thead>\n",
       "  <tbody>\n",
       "    <tr>\n",
       "      <th>0</th>\n",
       "      <td>Monday</td>\n",
       "      <td>1</td>\n",
       "      <td>January</td>\n",
       "      <td>2007</td>\n",
       "      <td>1</td>\n",
       "      <td>1</td>\n",
       "      <td>1</td>\n",
       "      <td>14.441000</td>\n",
       "    </tr>\n",
       "    <tr>\n",
       "      <th>1</th>\n",
       "      <td>Tuesday</td>\n",
       "      <td>1</td>\n",
       "      <td>January</td>\n",
       "      <td>2007</td>\n",
       "      <td>2</td>\n",
       "      <td>2</td>\n",
       "      <td>1</td>\n",
       "      <td>14.525588</td>\n",
       "    </tr>\n",
       "    <tr>\n",
       "      <th>2</th>\n",
       "      <td>Wednesday</td>\n",
       "      <td>1</td>\n",
       "      <td>January</td>\n",
       "      <td>2007</td>\n",
       "      <td>3</td>\n",
       "      <td>3</td>\n",
       "      <td>1</td>\n",
       "      <td>13.675471</td>\n",
       "    </tr>\n",
       "    <tr>\n",
       "      <th>3</th>\n",
       "      <td>Thursday</td>\n",
       "      <td>1</td>\n",
       "      <td>January</td>\n",
       "      <td>2007</td>\n",
       "      <td>4</td>\n",
       "      <td>4</td>\n",
       "      <td>1</td>\n",
       "      <td>13.783824</td>\n",
       "    </tr>\n",
       "    <tr>\n",
       "      <th>4</th>\n",
       "      <td>Friday</td>\n",
       "      <td>1</td>\n",
       "      <td>January</td>\n",
       "      <td>2007</td>\n",
       "      <td>5</td>\n",
       "      <td>5</td>\n",
       "      <td>1</td>\n",
       "      <td>13.479471</td>\n",
       "    </tr>\n",
       "  </tbody>\n",
       "</table>\n",
       "</div>"
      ],
      "text/plain": [
       "   dayofweek  quarter    month  year  dayofyear  dayofmonth  weekofyear  \\\n",
       "0     Monday        1  January  2007          1           1           1   \n",
       "1    Tuesday        1  January  2007          2           2           1   \n",
       "2  Wednesday        1  January  2007          3           3           1   \n",
       "3   Thursday        1  January  2007          4           4           1   \n",
       "4     Friday        1  January  2007          5           5           1   \n",
       "\n",
       "         new  \n",
       "0  14.441000  \n",
       "1  14.525588  \n",
       "2  13.675471  \n",
       "3  13.783824  \n",
       "4  13.479471  "
      ]
     },
     "execution_count": 23,
     "metadata": {},
     "output_type": "execute_result"
    }
   ],
   "source": [
    "X, y = date_features(df, label='new')\n",
    "df_new = pd.concat([X, y], axis=1)\n",
    "df_new.head()"
   ]
  },
  {
   "cell_type": "code",
   "execution_count": 25,
   "metadata": {},
   "outputs": [
    {
     "data": {
      "image/png": "[encoded data removed]",
      "text/plain": [
       "<Figure size 1008x360 with 1 Axes>"
      ]
     },
     "metadata": {
      "needs_background": "light"
     },
     "output_type": "display_data"
    }
   ],
   "source": [
    "fig, ax = plt.subplots(figsize=(14,5))\n",
    "palette = sns.color_palette(\"mako_r\", 4)\n",
    "a = sns.barplot(x=\"month\", y=\"new\",hue = 'year',data=df_new)\n",
    "a.set_title(\"Total Consumption Data\",fontsize=15)\n",
    "plt.legend(loc='upper right')\n",
    "plt.show()\n"
   ]
  },
  {
   "cell_type": "code",
   "execution_count": 29,
   "metadata": {},
   "outputs": [
    {
     "data": {
      "text/plain": [
       "Text(0.5, 1.0, 'Total Consumption By year')"
      ]
     },
     "execution_count": 29,
     "metadata": {},
     "output_type": "execute_result"
    },
    {
     "data": {
      "image/png": "[encoded data removed]",
      "text/plain": [
       "<Figure size 1440x1080 with 4 Axes>"
      ]
     },
     "metadata": {
      "needs_background": "light"
     },
     "output_type": "display_data"
    }
   ],
   "source": [
    "\n",
    "fig,(ax1,ax2,ax3,ax4)= plt.subplots(nrows=4)\n",
    "fig.set_size_inches(20,15)\n",
    "\n",
    "monthAggregated = pd.DataFrame(df_new.groupby(\"month\")[\"new\"].sum()).reset_index().sort_values('new')\n",
    "sns.barplot(data=monthAggregated,x=\"month\",y=\"new\",ax=ax1)\n",
    "ax1.set(xlabel='Month', ylabel='Total Consumption')\n",
    "ax1.set_title(\"Total Consumption By Month\",fontsize=15)\n",
    "\n",
    "monthAggregated = pd.DataFrame(df_new.groupby(\"dayofweek\")[\"new\"].sum()).reset_index().sort_values('new')\n",
    "sns.barplot(data=monthAggregated,x=\"dayofweek\",y=\"new\",ax=ax2)\n",
    "ax2.set(xlabel='dayofweek', ylabel='Total Consumption')\n",
    "ax2.set_title(\" Total Consumption By Weekday\",fontsize=15)\n",
    "\n",
    "monthAggregated = pd.DataFrame(df_new.groupby(\"quarter\")[\"new\"].sum()).reset_index().sort_values('new')\n",
    "sns.barplot(data=monthAggregated,x=\"quarter\",y=\"new\",ax=ax3)\n",
    "ax3.set(xlabel='Quarter', ylabel='Total Consumption')\n",
    "ax3.set_title(\"Total Consumption By Quarter\",fontsize=15)\n",
    "\n",
    "monthAggregated = pd.DataFrame(df_new.groupby(\"year\")[\"new\"].sum()).reset_index().sort_values('new')\n",
    "sns.barplot(data=monthAggregated,x=\"year\",y=\"new\",ax=ax4)\n",
    "ax4.set(xlabel='year', ylabel='Total Consumption')\n",
    "ax4.set_title(\"Total Consumption By year\",fontsize=15)"
   ]
  },
  {
   "cell_type": "code",
   "execution_count": null,
   "metadata": {},
   "outputs": [],
   "source": []
  }
 ],
 "metadata": {
  "kernelspec": {
   "display_name": "Python 3",
   "language": "python",
   "name": "python3"
  },
  "language_info": {
   "codemirror_mode": {
    "name": "ipython",
    "version": 3
   },
   "file_extension": ".py",
   "mimetype": "text/x-python",
   "name": "python",
   "nbconvert_exporter": "python",
   "pygments_lexer": "ipython3",
   "version": "3.8.5"
  }
 },
 "nbformat": 4,
 "nbformat_minor": 4
}
